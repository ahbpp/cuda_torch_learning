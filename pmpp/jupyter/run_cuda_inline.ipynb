{
 "cells": [
  {
   "cell_type": "code",
   "execution_count": 1,
   "metadata": {},
   "outputs": [],
   "source": [
    "\n",
    "import torch\n",
    "import os\n",
    "import matplotlib.pyplot as plt\n",
    "\n",
    "from torchvision.io import read_image, write_png\n",
    "from torch.utils.cpp_extension import load_inline\n",
    "from pathlib import Path"
   ]
  },
  {
   "cell_type": "code",
   "execution_count": 2,
   "metadata": {},
   "outputs": [
    {
     "data": {
      "text/plain": [
       "'2.0.1+cu117'"
      ]
     },
     "execution_count": 2,
     "metadata": {},
     "output_type": "execute_result"
    }
   ],
   "source": [
    "torch.__version__"
   ]
  },
  {
   "cell_type": "code",
   "execution_count": 8,
   "metadata": {},
   "outputs": [
    {
     "data": {
      "text/plain": [
       "PosixPath('/media/nvme/vs_code/cuda_torch_learning/pmpp/images')"
      ]
     },
     "execution_count": 8,
     "metadata": {},
     "output_type": "execute_result"
    }
   ],
   "source": [
    "DEVICE = \"cuda:0\"\n",
    "ROOT_DIR = os.path.abspath(\"..\")\n",
    "IMAGES_DIR = Path(ROOT_DIR) / \"images\"\n",
    "BUILD_DIR = Path(ROOT_DIR) / \"build\"\n",
    "KERNELS_DIR = Path(ROOT_DIR) / \"kernels\"\n",
    "IMAGES_DIR\n"
   ]
  },
  {
   "cell_type": "code",
   "execution_count": null,
   "metadata": {},
   "outputs": [],
   "source": [
    "test_image = read_image(str(IMAGES_DIR / \"test_image.png\")).to(DEVICE).float()"
   ]
  },
  {
   "cell_type": "markdown",
   "metadata": {},
   "source": [
    "### Image Blur"
   ]
  },
  {
   "cell_type": "code",
   "execution_count": 7,
   "metadata": {},
   "outputs": [
    {
     "name": "stderr",
     "output_type": "stream",
     "text": [
      "Using /home/aleksei/.cache/torch_extensions/py310_cu117 as PyTorch extensions root...\n",
      "The input conditions for extension module image_blur have changed. Bumping to version 2 and re-building as image_blur_v2...\n",
      "Detected CUDA files, patching ldflags\n",
      "Emitting ninja build file /home/aleksei/.cache/torch_extensions/py310_cu117/image_blur/build.ninja...\n",
      "Building extension module image_blur_v2...\n",
      "Allowing ninja to set a default number of workers... (overridable by setting the environment variable MAX_JOBS=N)\n"
     ]
    },
    {
     "name": "stdout",
     "output_type": "stream",
     "text": [
      "[1/3] c++ -MMD -MF main.o.d -DTORCH_EXTENSION_NAME=image_blur_v2 -DTORCH_API_INCLUDE_EXTENSION_H -DPYBIND11_COMPILER_TYPE=\\\"_gcc\\\" -DPYBIND11_STDLIB=\\\"_libstdcpp\\\" -DPYBIND11_BUILD_ABI=\\\"_cxxabi1011\\\" -isystem /home/aleksei/miniconda3/envs/classification-dev2/lib/python3.10/site-packages/torch/include -isystem /home/aleksei/miniconda3/envs/classification-dev2/lib/python3.10/site-packages/torch/include/torch/csrc/api/include -isystem /home/aleksei/miniconda3/envs/classification-dev2/lib/python3.10/site-packages/torch/include/TH -isystem /home/aleksei/miniconda3/envs/classification-dev2/lib/python3.10/site-packages/torch/include/THC -isystem /usr/local/cuda/include -isystem /home/aleksei/miniconda3/envs/classification-dev2/include/python3.10 -D_GLIBCXX_USE_CXX11_ABI=0 -fPIC -std=c++17 -c /home/aleksei/.cache/torch_extensions/py310_cu117/image_blur/main.cpp -o main.o \n",
      "[2/3] /usr/local/cuda/bin/nvcc  -DTORCH_EXTENSION_NAME=image_blur_v2 -DTORCH_API_INCLUDE_EXTENSION_H -DPYBIND11_COMPILER_TYPE=\\\"_gcc\\\" -DPYBIND11_STDLIB=\\\"_libstdcpp\\\" -DPYBIND11_BUILD_ABI=\\\"_cxxabi1011\\\" -isystem /home/aleksei/miniconda3/envs/classification-dev2/lib/python3.10/site-packages/torch/include -isystem /home/aleksei/miniconda3/envs/classification-dev2/lib/python3.10/site-packages/torch/include/torch/csrc/api/include -isystem /home/aleksei/miniconda3/envs/classification-dev2/lib/python3.10/site-packages/torch/include/TH -isystem /home/aleksei/miniconda3/envs/classification-dev2/lib/python3.10/site-packages/torch/include/THC -isystem /usr/local/cuda/include -isystem /home/aleksei/miniconda3/envs/classification-dev2/include/python3.10 -D_GLIBCXX_USE_CXX11_ABI=0 -D__CUDA_NO_HALF_OPERATORS__ -D__CUDA_NO_HALF_CONVERSIONS__ -D__CUDA_NO_BFLOAT16_CONVERSIONS__ -D__CUDA_NO_HALF2_OPERATORS__ --expt-relaxed-constexpr -gencode=arch=compute_61,code=compute_61 -gencode=arch=compute_61,code=sm_61 --compiler-options '-fPIC' -std=c++17 -c /home/aleksei/.cache/torch_extensions/py310_cu117/image_blur/cuda.cu -o cuda.cuda.o \n",
      "[3/3] c++ main.o cuda.cuda.o -shared -L/home/aleksei/miniconda3/envs/classification-dev2/lib/python3.10/site-packages/torch/lib -lc10 -lc10_cuda -ltorch_cpu -ltorch_cuda -ltorch -ltorch_python -L/usr/local/cuda/lib64 -lcudart -o image_blur_v2.so\n"
     ]
    },
    {
     "name": "stderr",
     "output_type": "stream",
     "text": [
      "Loading extension module image_blur_v2...\n"
     ]
    }
   ],
   "source": [
    "cuda_source = (KERNELS_DIR / \"imageBlur.cu\").read_text()\n",
    "cpp_source = \"torch::Tensor blur_filter(torch::Tensor image, int radius);\"\n",
    "image_blur_module = load_inline(\n",
    "    name=\"image_blur\",\n",
    "    cpp_sources=[cpp_source],\n",
    "    cuda_sources=[cuda_source],\n",
    "    functions=[\"blur_filter\"],\n",
    "    # build_directory=BUILD_DIR,\n",
    "    verbose=True,\n",
    ")"
   ]
  },
  {
   "cell_type": "code",
   "execution_count": 11,
   "metadata": {},
   "outputs": [],
   "source": [
    "test_random_tensor = torch.ones(3, 64, 64, device=DEVICE, dtype=torch.uint8)\n",
    "test_blur = image_blur_module.blur_filter(test_random_tensor, 5)"
   ]
  },
  {
   "cell_type": "code",
   "execution_count": 12,
   "metadata": {},
   "outputs": [
    {
     "data": {
      "text/plain": [
       "tensor([[[1, 1, 1,  ..., 1, 1, 1],\n",
       "         [1, 1, 1,  ..., 1, 1, 1],\n",
       "         [1, 1, 1,  ..., 1, 1, 1],\n",
       "         ...,\n",
       "         [1, 1, 1,  ..., 1, 1, 1],\n",
       "         [1, 1, 1,  ..., 1, 1, 1],\n",
       "         [1, 1, 1,  ..., 1, 1, 1]],\n",
       "\n",
       "        [[1, 1, 1,  ..., 1, 1, 1],\n",
       "         [1, 1, 1,  ..., 1, 1, 1],\n",
       "         [1, 1, 1,  ..., 1, 1, 1],\n",
       "         ...,\n",
       "         [1, 1, 1,  ..., 1, 1, 1],\n",
       "         [1, 1, 1,  ..., 1, 1, 1],\n",
       "         [1, 1, 1,  ..., 1, 1, 1]],\n",
       "\n",
       "        [[1, 1, 1,  ..., 1, 1, 1],\n",
       "         [1, 1, 1,  ..., 1, 1, 1],\n",
       "         [1, 1, 1,  ..., 1, 1, 1],\n",
       "         ...,\n",
       "         [1, 1, 1,  ..., 1, 1, 1],\n",
       "         [1, 1, 1,  ..., 1, 1, 1],\n",
       "         [1, 1, 1,  ..., 1, 1, 1]]], device='cuda:0', dtype=torch.uint8)"
      ]
     },
     "execution_count": 12,
     "metadata": {},
     "output_type": "execute_result"
    }
   ],
   "source": [
    "test_blur"
   ]
  },
  {
   "cell_type": "code",
   "execution_count": null,
   "metadata": {},
   "outputs": [],
   "source": []
  }
 ],
 "metadata": {
  "kernelspec": {
   "display_name": "torch_24",
   "language": "python",
   "name": "python3"
  },
  "language_info": {
   "codemirror_mode": {
    "name": "ipython",
    "version": 3
   },
   "file_extension": ".py",
   "mimetype": "text/x-python",
   "name": "python",
   "nbconvert_exporter": "python",
   "pygments_lexer": "ipython3",
   "version": "3.10.11"
  }
 },
 "nbformat": 4,
 "nbformat_minor": 2
}
