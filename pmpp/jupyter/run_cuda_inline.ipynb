{
 "cells": [
  {
   "cell_type": "code",
   "execution_count": 1,
   "metadata": {},
   "outputs": [],
   "source": [
    "\n",
    "import torch\n",
    "import os\n",
    "import matplotlib.pyplot as plt\n",
    "\n",
    "from torchvision.io import read_image, write_png\n",
    "from torch.utils.cpp_extension import load_inline\n",
    "from pathlib import Path"
   ]
  },
  {
   "cell_type": "code",
   "execution_count": 2,
   "metadata": {},
   "outputs": [
    {
     "data": {
      "text/plain": [
       "PosixPath('/home/aleksei/vs_code/cuda_torch_learning/pmpp/images')"
      ]
     },
     "execution_count": 2,
     "metadata": {},
     "output_type": "execute_result"
    }
   ],
   "source": [
    "ROOT_DIR = os.path.abspath(\"..\")\n",
    "IMAGES_DIR = Path(ROOT_DIR) / \"images\"\n",
    "BUILD_DIR = Path(ROOT_DIR) / \"build\"\n",
    "KERNELS_DIR = Path(ROOT_DIR) / \"kernels\"\n",
    "IMAGES_DIR\n"
   ]
  },
  {
   "cell_type": "markdown",
   "metadata": {},
   "source": [
    "### Image Blur"
   ]
  },
  {
   "cell_type": "code",
   "execution_count": 2,
   "metadata": {},
   "outputs": [
    {
     "name": "stdout",
     "output_type": "stream",
     "text": [
      "/home/aleksei/vs_code/cuda_torch_learning/pmpp/jupyter\n"
     ]
    }
   ],
   "source": [
    "cuda_source = (KERNELS_DIR / \"imageBlur.cu\").read_text()\n",
    "cpp_source = \"torch::Tensor blur_filter(torch::Tensor image, int radius);\"\n",
    "image_blur_module = load_inline(\n",
    "    name=\"image_blur\",\n",
    "    cpp_sources=[cpp_source],\n",
    "    cuda_sources=[cuda_source],\n",
    "    functions=[\"blur_filter\"],\n",
    "    build_directory=BUILD_DIR,\n",
    "    verbose=True,\n",
    ")"
   ]
  },
  {
   "cell_type": "code",
   "execution_count": null,
   "metadata": {},
   "outputs": [],
   "source": []
  }
 ],
 "metadata": {
  "kernelspec": {
   "display_name": "torch_24",
   "language": "python",
   "name": "python3"
  },
  "language_info": {
   "codemirror_mode": {
    "name": "ipython",
    "version": 3
   },
   "file_extension": ".py",
   "mimetype": "text/x-python",
   "name": "python",
   "nbconvert_exporter": "python",
   "pygments_lexer": "ipython3",
   "version": "3.12.4"
  }
 },
 "nbformat": 4,
 "nbformat_minor": 2
}
